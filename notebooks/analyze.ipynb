{
 "cells": [
  {
   "cell_type": "code",
   "execution_count": 10,
   "id": "f7626c77-e84a-46d3-adae-b47d185fc831",
   "metadata": {},
   "outputs": [],
   "source": [
    "import numpy as np\n",
    "import pandas as pd\n",
    "import pyarrow as pa\n",
    "from pyarrow import parquet\n",
    "\n",
    "import matplotlib.pyplot as plt"
   ]
  },
  {
   "cell_type": "code",
   "execution_count": 2,
   "id": "f1e6cf8b-9f73-4700-9575-c8b99a945694",
   "metadata": {},
   "outputs": [],
   "source": [
    "def get_rel_ebs(table_name):\n",
    "    if table_name == \"ethylene_methane\":\n",
    "        rel_ebs = [1.0] * 8 + [0.01] * 8\n",
    "        rel_ebs[1] = 0.01\n",
    "        parquet_file_or_folder = \"../datasets/gas_sensor/ethylene_methane.parquet\"\n",
    "    elif table_name == \"ethylene_CO\":\n",
    "        rel_ebs = [1.0] * 8 + [0.01] * 8\n",
    "        parquet_file_or_folder = \"../datasets/gas_sensor/ethylene_CO.parquet\"\n",
    "    elif table_name == \"heavy_drinking\":\n",
    "        rel_ebs = [10.0] * 3\n",
    "        parquet_file_or_folder = (\n",
    "            \"../datasets/heavy_drinking/all_accelerometer_data_pids_13.parquet\"\n",
    "        )\n",
    "    else:\n",
    "        raise ValueError(f\"Unsupported Table Name: {table_name}\")\n",
    "    rel_ebs = [rel_eb * 1e-2 for rel_eb in rel_ebs]\n",
    "    return rel_ebs, parquet_file_or_folder\n",
    "\n",
    "\n",
    "def load_data(table_name):\n",
    "    rel_ebs, path = get_rel_ebs(table_name)\n",
    "    arrow_table = parquet.read_table(path)\n",
    "    \n",
    "    return arrow_table, rel_ebs"
   ]
  },
  {
   "cell_type": "code",
   "execution_count": 3,
   "id": "61fc0250-e732-490b-a253-d58873079e89",
   "metadata": {},
   "outputs": [],
   "source": [
    "table, rel_ebs = load_data(\"heavy_drinking\")"
   ]
  },
  {
   "cell_type": "code",
   "execution_count": 4,
   "id": "5e663f13-54a4-428f-a4da-4f66770dabdd",
   "metadata": {},
   "outputs": [
    {
     "data": {
      "text/plain": [
       "pyarrow.Table\n",
       "time: int64\n",
       "x: double\n",
       "y: double\n",
       "z: double\n",
       "----\n",
       "time: [[0,0,1493733882409,1493733882455,1493733882500,...,1493736777617,1493736777619,1493736777627,1493736777631,1493736777641],[1493736777641,1493736777648,1493736777649,1493736777667,1493736777667,...,1493737821975,1493737821985,1493737822000,1493737822009,1493737822025],...,[1493824275576,1493824275577,1493824275595,1493824275601,1493824275620,...,1493828001393,1493828001417,1493828001443,1493828001470,1493828001494],[1493828001518,1493828001542,1493828001568,1493828001595,1493828001617,...,1493829248196,1493829248220,1493829248245,1493829248270,1493829248294]]\n",
       "x: [[0,0,0.0758,-0.0359,-0.2427,...,-0,0.0005,0.0025,0.0112,-0.0004],[-0.0005,0.0014,-0.042,0,-0.0008,...,0.0091,-0,0.009,-0.0006,-0.0103],...,[0.0852343999999999,0.0007,0.0006,0.066538334,-0.0012,...,0.029138565,0.009840965,0.06714535,0.105213165,0.009912491],[0.08671951,0.06749725,0.087278366,0.030441284,0.1065979,...,-0.13395596,-0.100764275,-0.13185287,-0.14970446,-0.107287645]]\n",
       "y: [[0,0,0.0273,0.0794,-0.0861,...,0.0008,-0,0.0391,0.0065,0.0002],[0.0007,-0.0037,0.0399,-0.0002,-0.0009,...,0.0109,0,0.0014,-0,0.0061],...,[0.035253525,0.0021,0.0008,0.015476227,-0.0001,...,-0.021341443,-0.05753088,-0.017184377,0.020918012,0.03975272],[-0.01774311,-0.018169284,0.038383722,0.00025868416,-0.018464208,...,0.124726295,0.18087196,0.19593382,0.19448185,0.15354776]]\n",
       "z: [[0,0,-0.0102,0.0037,-0.0163,...,0.001,0.006,0.0909,0.0027,0.0048],[0.0029,0.009,0.0953,0.0068,0.0034,...,0.0078,0.0067,-0.0415,0.0073,0.0227],...,[0.19566941,-0.0091,0.0077,0.23539329,0.0069999999999999,...,-0.044451714,0.0116224289999999,-0.06637478,-0.047850847,-0.1037581],[-0.064845085,-0.026557207,-0.13917494,-0.13736153,-0.04317689,...,-0.010735989,0.046448708,0.18108797,0.20239258,0.16859484]]"
      ]
     },
     "execution_count": 4,
     "metadata": {},
     "output_type": "execute_result"
    }
   ],
   "source": [
    "table"
   ]
  },
  {
   "cell_type": "code",
   "execution_count": 6,
   "id": "84b8b165-a30f-4b62-9f15-76e2b2c1743a",
   "metadata": {},
   "outputs": [],
   "source": [
    "df = table.to_pandas()"
   ]
  },
  {
   "cell_type": "code",
   "execution_count": 15,
   "id": "62658c96-8dc4-4689-9345-da72ebc4d08e",
   "metadata": {},
   "outputs": [
    {
     "data": {
      "text/html": [
       "<div>\n",
       "<style scoped>\n",
       "    .dataframe tbody tr th:only-of-type {\n",
       "        vertical-align: middle;\n",
       "    }\n",
       "\n",
       "    .dataframe tbody tr th {\n",
       "        vertical-align: top;\n",
       "    }\n",
       "\n",
       "    .dataframe thead th {\n",
       "        text-align: right;\n",
       "    }\n",
       "</style>\n",
       "<table border=\"1\" class=\"dataframe\">\n",
       "  <thead>\n",
       "    <tr style=\"text-align: right;\">\n",
       "      <th></th>\n",
       "      <th>time</th>\n",
       "      <th>x</th>\n",
       "      <th>y</th>\n",
       "      <th>z</th>\n",
       "    </tr>\n",
       "  </thead>\n",
       "  <tbody>\n",
       "    <tr>\n",
       "      <th>time</th>\n",
       "      <td>1.000000</td>\n",
       "      <td>-0.016410</td>\n",
       "      <td>0.038047</td>\n",
       "      <td>0.146469</td>\n",
       "    </tr>\n",
       "    <tr>\n",
       "      <th>x</th>\n",
       "      <td>-0.016410</td>\n",
       "      <td>1.000000</td>\n",
       "      <td>-0.002553</td>\n",
       "      <td>0.110523</td>\n",
       "    </tr>\n",
       "    <tr>\n",
       "      <th>y</th>\n",
       "      <td>0.038047</td>\n",
       "      <td>-0.002553</td>\n",
       "      <td>1.000000</td>\n",
       "      <td>-0.053050</td>\n",
       "    </tr>\n",
       "    <tr>\n",
       "      <th>z</th>\n",
       "      <td>0.146469</td>\n",
       "      <td>0.110523</td>\n",
       "      <td>-0.053050</td>\n",
       "      <td>1.000000</td>\n",
       "    </tr>\n",
       "  </tbody>\n",
       "</table>\n",
       "</div>"
      ],
      "text/plain": [
       "          time         x         y         z\n",
       "time  1.000000 -0.016410  0.038047  0.146469\n",
       "x    -0.016410  1.000000 -0.002553  0.110523\n",
       "y     0.038047 -0.002553  1.000000 -0.053050\n",
       "z     0.146469  0.110523 -0.053050  1.000000"
      ]
     },
     "execution_count": 15,
     "metadata": {},
     "output_type": "execute_result"
    }
   ],
   "source": [
    "df.corr(method='spearman')"
   ]
  },
  {
   "cell_type": "code",
   "execution_count": 16,
   "id": "9d69e087-1828-4836-ace0-80da43087309",
   "metadata": {},
   "outputs": [
    {
     "data": {
      "text/html": [
       "<div>\n",
       "<style scoped>\n",
       "    .dataframe tbody tr th:only-of-type {\n",
       "        vertical-align: middle;\n",
       "    }\n",
       "\n",
       "    .dataframe tbody tr th {\n",
       "        vertical-align: top;\n",
       "    }\n",
       "\n",
       "    .dataframe thead th {\n",
       "        text-align: right;\n",
       "    }\n",
       "</style>\n",
       "<table border=\"1\" class=\"dataframe\">\n",
       "  <thead>\n",
       "    <tr style=\"text-align: right;\">\n",
       "      <th></th>\n",
       "      <th>time</th>\n",
       "      <th>x</th>\n",
       "      <th>y</th>\n",
       "      <th>z</th>\n",
       "    </tr>\n",
       "  </thead>\n",
       "  <tbody>\n",
       "    <tr>\n",
       "      <th>time</th>\n",
       "      <td>1.000000</td>\n",
       "      <td>-0.000330</td>\n",
       "      <td>0.005394</td>\n",
       "      <td>-0.005394</td>\n",
       "    </tr>\n",
       "    <tr>\n",
       "      <th>x</th>\n",
       "      <td>-0.000330</td>\n",
       "      <td>1.000000</td>\n",
       "      <td>0.058263</td>\n",
       "      <td>-0.058263</td>\n",
       "    </tr>\n",
       "    <tr>\n",
       "      <th>y</th>\n",
       "      <td>0.005394</td>\n",
       "      <td>0.058263</td>\n",
       "      <td>1.000000</td>\n",
       "      <td>-1.000000</td>\n",
       "    </tr>\n",
       "    <tr>\n",
       "      <th>z</th>\n",
       "      <td>-0.005394</td>\n",
       "      <td>-0.058263</td>\n",
       "      <td>-1.000000</td>\n",
       "      <td>1.000000</td>\n",
       "    </tr>\n",
       "  </tbody>\n",
       "</table>\n",
       "</div>"
      ],
      "text/plain": [
       "          time         x         y         z\n",
       "time  1.000000 -0.000330  0.005394 -0.005394\n",
       "x    -0.000330  1.000000  0.058263 -0.058263\n",
       "y     0.005394  0.058263  1.000000 -1.000000\n",
       "z    -0.005394 -0.058263 -1.000000  1.000000"
      ]
     },
     "execution_count": 16,
     "metadata": {},
     "output_type": "execute_result"
    }
   ],
   "source": [
    "df.corr()"
   ]
  },
  {
   "cell_type": "code",
   "execution_count": 11,
   "id": "19f09cef-80f5-4d17-a47c-cde62b94d3e2",
   "metadata": {},
   "outputs": [
    {
     "data": {
      "image/png": "[encoded data removed]",
      "text/plain": [
       "<Figure size 480x480 with 1 Axes>"
      ]
     },
     "metadata": {},
     "output_type": "display_data"
    }
   ],
   "source": [
    "plt.matshow(df.corr())\n",
    "plt.show()"
   ]
  },
  {
   "cell_type": "code",
   "execution_count": 17,
   "id": "838b5e99-4ee1-4d08-a622-85ec06b6b783",
   "metadata": {},
   "outputs": [
    {
     "data": {
      "text/html": [
       "<div>\n",
       "<style scoped>\n",
       "    .dataframe tbody tr th:only-of-type {\n",
       "        vertical-align: middle;\n",
       "    }\n",
       "\n",
       "    .dataframe tbody tr th {\n",
       "        vertical-align: top;\n",
       "    }\n",
       "\n",
       "    .dataframe thead th {\n",
       "        text-align: right;\n",
       "    }\n",
       "</style>\n",
       "<table border=\"1\" class=\"dataframe\">\n",
       "  <thead>\n",
       "    <tr style=\"text-align: right;\">\n",
       "      <th></th>\n",
       "      <th>x</th>\n",
       "      <th>y</th>\n",
       "      <th>z</th>\n",
       "    </tr>\n",
       "  </thead>\n",
       "  <tbody>\n",
       "    <tr>\n",
       "      <th>0</th>\n",
       "      <td>0.0000</td>\n",
       "      <td>0.0000</td>\n",
       "      <td>0.0000</td>\n",
       "    </tr>\n",
       "    <tr>\n",
       "      <th>1</th>\n",
       "      <td>0.0000</td>\n",
       "      <td>0.0000</td>\n",
       "      <td>0.0000</td>\n",
       "    </tr>\n",
       "    <tr>\n",
       "      <th>2</th>\n",
       "      <td>0.0758</td>\n",
       "      <td>0.0273</td>\n",
       "      <td>-0.0102</td>\n",
       "    </tr>\n",
       "    <tr>\n",
       "      <th>3</th>\n",
       "      <td>-0.0359</td>\n",
       "      <td>0.0794</td>\n",
       "      <td>0.0037</td>\n",
       "    </tr>\n",
       "    <tr>\n",
       "      <th>4</th>\n",
       "      <td>-0.2427</td>\n",
       "      <td>-0.0861</td>\n",
       "      <td>-0.0163</td>\n",
       "    </tr>\n",
       "    <tr>\n",
       "      <th>5</th>\n",
       "      <td>-0.2888</td>\n",
       "      <td>0.0514</td>\n",
       "      <td>-0.0145</td>\n",
       "    </tr>\n",
       "    <tr>\n",
       "      <th>6</th>\n",
       "      <td>-0.0413</td>\n",
       "      <td>-0.0184</td>\n",
       "      <td>-0.0105</td>\n",
       "    </tr>\n",
       "    <tr>\n",
       "      <th>7</th>\n",
       "      <td>-0.0413</td>\n",
       "      <td>-0.0001</td>\n",
       "      <td>0.0017</td>\n",
       "    </tr>\n",
       "    <tr>\n",
       "      <th>8</th>\n",
       "      <td>-0.0286</td>\n",
       "      <td>-0.0028</td>\n",
       "      <td>-0.0094</td>\n",
       "    </tr>\n",
       "    <tr>\n",
       "      <th>9</th>\n",
       "      <td>-0.0543</td>\n",
       "      <td>-0.0410</td>\n",
       "      <td>-0.0109</td>\n",
       "    </tr>\n",
       "  </tbody>\n",
       "</table>\n",
       "</div>"
      ],
      "text/plain": [
       "        x       y       z\n",
       "0  0.0000  0.0000  0.0000\n",
       "1  0.0000  0.0000  0.0000\n",
       "2  0.0758  0.0273 -0.0102\n",
       "3 -0.0359  0.0794  0.0037\n",
       "4 -0.2427 -0.0861 -0.0163\n",
       "5 -0.2888  0.0514 -0.0145\n",
       "6 -0.0413 -0.0184 -0.0105\n",
       "7 -0.0413 -0.0001  0.0017\n",
       "8 -0.0286 -0.0028 -0.0094\n",
       "9 -0.0543 -0.0410 -0.0109"
      ]
     },
     "execution_count": 17,
     "metadata": {},
     "output_type": "execute_result"
    }
   ],
   "source": [
    "df.iloc[:10,1:]"
   ]
  },
  {
   "cell_type": "code",
   "execution_count": null,
   "id": "b78ccb10-6def-49cd-aab2-fd55a07ad566",
   "metadata": {},
   "outputs": [],
   "source": []
  }
 ],
 "metadata": {
  "kernelspec": {
   "display_name": "Python 3 (ipykernel)",
   "language": "python",
   "name": "python3"
  },
  "language_info": {
   "codemirror_mode": {
    "name": "ipython",
    "version": 3
   },
   "file_extension": ".py",
   "mimetype": "text/x-python",
   "name": "python",
   "nbconvert_exporter": "python",
   "pygments_lexer": "ipython3",
   "version": "3.11.5"
  }
 },
 "nbformat": 4,
 "nbformat_minor": 5
}
